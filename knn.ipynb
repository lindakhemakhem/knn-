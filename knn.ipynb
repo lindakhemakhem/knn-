{
 "cells": [
  {
   "cell_type": "code",
   "execution_count": 1,
   "id": "9a8cab60",
   "metadata": {},
   "outputs": [
    {
     "name": "stdout",
     "output_type": "stream",
     "text": [
      "Train: 1\n",
      "Test: 0\n"
     ]
    }
   ],
   "source": [
    "import csv\n",
    "\n",
    "import random\n",
    "\n",
    "def loadDataset(filename, split, trainingSet=[] , testSet=[]):\n",
    "\n",
    "    with open(filename, 'r') as csvfile:\n",
    "\n",
    "        lines = csv.reader(csvfile)\n",
    "        dataset = list(lines)\n",
    "\n",
    "    for x in range(len(dataset)-1):\n",
    "    \n",
    "        for y in range(4):\n",
    "\n",
    "            dataset[x][y] = float(dataset[x][y])\n",
    "\n",
    "    if random.random() < split:\n",
    "\n",
    "        trainingSet.append(dataset[x])\n",
    "\n",
    "    else:\n",
    "        testingSet.append(dataset[x])\n",
    "\n",
    "trainingSet=[]\n",
    "testSet=[]\n",
    "loadDataset('iris.data.txt', 0.66, trainingSet, testSet)\n",
    "\n",
    "print ('Train: ' + repr(len(trainingSet)))\n",
    "\n",
    "print ('Test: ' + repr(len(testSet)) )"
   ]
  },
  {
   "cell_type": "code",
   "execution_count": 10,
   "id": "ccaf95b8",
   "metadata": {},
   "outputs": [
    {
     "data": {
      "text/plain": [
       "3.4641016151377544"
      ]
     },
     "execution_count": 10,
     "metadata": {},
     "output_type": "execute_result"
    }
   ],
   "source": [
    "import math\n",
    "from scipy.spatial import distance\n",
    "\n",
    "def euclideanDistance(instance1, instance2, length):\n",
    "   \n",
    "    dst = distance.euclidean(a[:length], b[:length])\n",
    "    return dst\n",
    "\n",
    "a = [2, 2, 2, 'a']\n",
    "b = [4, 4, 4, 'b']   \n",
    "euclideanDistance(a,b,3)"
   ]
  },
  {
   "cell_type": "code",
   "execution_count": 30,
   "id": "de5a56eb",
   "metadata": {},
   "outputs": [
    {
     "ename": "TypeError",
     "evalue": "euclideanDistance() missing 2 required positional arguments: 'instance2' and 'length'",
     "output_type": "error",
     "traceback": [
      "\u001b[1;31m---------------------------------------------------------------------------\u001b[0m",
      "\u001b[1;31mTypeError\u001b[0m                                 Traceback (most recent call last)",
      "\u001b[1;32m<ipython-input-30-c3df9a96deb4>\u001b[0m in \u001b[0;36m<module>\u001b[1;34m\u001b[0m\n\u001b[1;32m----> 1\u001b[1;33m \u001b[0meuclideanDistance\u001b[0m\u001b[1;33m(\u001b[0m\u001b[1;34m'iris.data.txt'\u001b[0m\u001b[1;33m)\u001b[0m\u001b[1;33m\u001b[0m\u001b[1;33m\u001b[0m\u001b[0m\n\u001b[0m",
      "\u001b[1;31mTypeError\u001b[0m: euclideanDistance() missing 2 required positional arguments: 'instance2' and 'length'"
     ]
    }
   ],
   "source": [
    "euclideanDistance"
   ]
  },
  {
   "cell_type": "code",
   "execution_count": 29,
   "id": "11a1fcc1",
   "metadata": {},
   "outputs": [
    {
     "data": {
      "text/plain": [
       "3.4641016151377544"
      ]
     },
     "execution_count": 29,
     "metadata": {},
     "output_type": "execute_result"
    }
   ],
   "source": [
    "import math \n",
    "def ManhattanDistance(a,b,length):\n",
    "    dis=0\n",
    "    for i in range (length):\n",
    "        dis+=abs(a[i]-b[i])\n",
    "        return(dis)\n",
    "eucDis(a,b,3)\n",
    "    "
   ]
  },
  {
   "cell_type": "code",
   "execution_count": 14,
   "id": "e1508de0",
   "metadata": {},
   "outputs": [
    {
     "data": {
      "text/plain": [
       "3.4641016151377544"
      ]
     },
     "execution_count": 14,
     "metadata": {},
     "output_type": "execute_result"
    }
   ],
   "source": [
    "from math import sqrt\n",
    "def eucDis(a,b,length):\n",
    "    dis = 0\n",
    "    for i in range(length):\n",
    "        dis+= (a[i]-b[i])**2\n",
    "    return sqrt(dis)\n",
    "eucDis(a,b,3)"
   ]
  },
  {
   "cell_type": "code",
   "execution_count": 17,
   "id": "c4c0eac9",
   "metadata": {},
   "outputs": [
    {
     "name": "stdout",
     "output_type": "stream",
     "text": [
      "[[2, 2, 2, 'a']]\n"
     ]
    }
   ],
   "source": [
    "import operator\n",
    "def getNeighbors(trainingSet, testInstance, k):\n",
    "\n",
    "    distances = []\n",
    "\n",
    "    length = len(testInstance)-1\n",
    "\n",
    "    for x in range(len(trainingSet)):\n",
    "\n",
    "        dist = euclideanDistance(testInstance, trainingSet[x], length)\n",
    "\n",
    "        distances.append((trainingSet[x], dist))\n",
    "\n",
    "        distances.sort(key=operator.itemgetter(1))\n",
    "\n",
    "    neighbors = []\n",
    "\n",
    "    for x in range(k):\n",
    "\n",
    "        neighbors.append(distances[x][0])\n",
    "\n",
    "    return neighbors\n",
    "trainSet = [[2, 2, 2, 'a'], [4, 4, 4, 'b']]\n",
    "\n",
    "testInstance = [5, 5, 5]\n",
    "\n",
    "k = 1\n",
    "\n",
    "neighbors = getNeighbors(trainSet, testInstance, 1)\n",
    "\n",
    "print(neighbors)"
   ]
  },
  {
   "cell_type": "code",
   "execution_count": 25,
   "id": "beaeeae1",
   "metadata": {},
   "outputs": [
    {
     "name": "stdout",
     "output_type": "stream",
     "text": [
      "a\n"
     ]
    }
   ],
   "source": [
    "import operator\n",
    "\n",
    "def getResponse(neighbors):\n",
    "\n",
    "    classVotes = {}\n",
    "\n",
    "    for x in range(len(neighbors)):\n",
    "\n",
    "        response = neighbors[x][3]\n",
    "\n",
    "        if response in classVotes:\n",
    "            classVotes[response]+=1\n",
    "        else:\n",
    "            classVotes[response]=1\n",
    "        \n",
    "        \n",
    "    sortedVotes = sorted(classVotes.items(), key=operator.itemgetter(1), reverse=True)\n",
    "    return sortedVotes[0][0]\n",
    "\n",
    "neighbors = [[1,1,1,'a'], [2,2,2,'a'], [3,3,3,'b']]\n",
    "\n",
    "response = getResponse(neighbors)\n",
    "\n",
    "print(response)\n",
    "    "
   ]
  },
  {
   "cell_type": "code",
   "execution_count": 28,
   "id": "188043c0",
   "metadata": {},
   "outputs": [
    {
     "name": "stdout",
     "output_type": "stream",
     "text": [
      "66.66666666666666\n"
     ]
    }
   ],
   "source": [
    "def getAccuracy(testSet, predictions):\n",
    "    \n",
    "    correct=0\n",
    "    for x in range(0,len(testSet)):\n",
    "        if testSet[x][-1]== predictions[x]:\n",
    "            correct+=1\n",
    "\n",
    "       \n",
    "        \n",
    "        \n",
    "    return (correct/float(len(testSet))) * 100.0\n",
    "\n",
    "testSet = [[1,1,1,'a'], [2,2,2,'a'], [3,3,3,'b']]\n",
    "\n",
    "predictions = ['a', 'a', 'a']\n",
    "\n",
    "accuracy = getAccuracy(testSet, predictions)\n",
    "\n",
    "print(accuracy)"
   ]
  },
  {
   "cell_type": "code",
   "execution_count": null,
   "id": "bf488d69",
   "metadata": {},
   "outputs": [],
   "source": []
  }
 ],
 "metadata": {
  "kernelspec": {
   "display_name": "Python 3",
   "language": "python",
   "name": "python3"
  },
  "language_info": {
   "codemirror_mode": {
    "name": "ipython",
    "version": 3
   },
   "file_extension": ".py",
   "mimetype": "text/x-python",
   "name": "python",
   "nbconvert_exporter": "python",
   "pygments_lexer": "ipython3",
   "version": "3.8.8"
  }
 },
 "nbformat": 4,
 "nbformat_minor": 5
}
